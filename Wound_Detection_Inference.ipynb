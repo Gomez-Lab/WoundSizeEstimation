{
  "nbformat": 4,
  "nbformat_minor": 0,
  "metadata": {
    "colab": {
      "name": "Wound Detection Inference.ipynb",
      "provenance": [],
      "authorship_tag": "ABX9TyMa1tpiBlYRz+TkcXKItK1d",
      "include_colab_link": true
    },
    "kernelspec": {
      "name": "python3",
      "display_name": "Python 3"
    },
    "accelerator": "GPU"
  },
  "cells": [
    {
      "cell_type": "markdown",
      "metadata": {
        "id": "view-in-github",
        "colab_type": "text"
      },
      "source": [
        "<a href=\"https://colab.research.google.com/github/Gomez-Lab/WoundSizeEstimation/blob/main/Wound_Detection_Inference.ipynb\" target=\"_parent\"><img src=\"https://colab.research.google.com/assets/colab-badge.svg\" alt=\"Open In Colab\"/></a>"
      ]
    },
    {
      "cell_type": "markdown",
      "metadata": {
        "id": "6p5rlqtJbZQs"
      },
      "source": [
        "# Wound detection\n",
        "\n",
        "This notebook will cover performing inference with our trained YOLOv3 network"
      ]
    },
    {
      "cell_type": "markdown",
      "metadata": {
        "id": "f0plRqTLb1ne"
      },
      "source": [
        "### Support for importing files from drive\n"
      ]
    },
    {
      "cell_type": "code",
      "metadata": {
        "id": "MuY6oantcORs",
        "colab": {
          "base_uri": "https://localhost:8080/"
        },
        "outputId": "42032b8d-541b-47b5-cfdc-ad57af0683f2"
      },
      "source": [
        "!nvidia-smi"
      ],
      "execution_count": null,
      "outputs": [
        {
          "output_type": "stream",
          "text": [
            "Wed May 12 16:25:41 2021       \n",
            "+-----------------------------------------------------------------------------+\n",
            "| NVIDIA-SMI 465.19.01    Driver Version: 460.32.03    CUDA Version: 11.2     |\n",
            "|-------------------------------+----------------------+----------------------+\n",
            "| GPU  Name        Persistence-M| Bus-Id        Disp.A | Volatile Uncorr. ECC |\n",
            "| Fan  Temp  Perf  Pwr:Usage/Cap|         Memory-Usage | GPU-Util  Compute M. |\n",
            "|                               |                      |               MIG M. |\n",
            "|===============================+======================+======================|\n",
            "|   0  Tesla V100-SXM2...  Off  | 00000000:00:04.0 Off |                    0 |\n",
            "| N/A   35C    P0    23W / 300W |      0MiB / 16160MiB |      0%      Default |\n",
            "|                               |                      |                  N/A |\n",
            "+-------------------------------+----------------------+----------------------+\n",
            "                                                                               \n",
            "+-----------------------------------------------------------------------------+\n",
            "| Processes:                                                                  |\n",
            "|  GPU   GI   CI        PID   Type   Process name                  GPU Memory |\n",
            "|        ID   ID                                                   Usage      |\n",
            "|=============================================================================|\n",
            "|  No running processes found                                                 |\n",
            "+-----------------------------------------------------------------------------+\n"
          ],
          "name": "stdout"
        }
      ]
    },
    {
      "cell_type": "code",
      "metadata": {
        "id": "W8mMXM0KbVTQ",
        "colab": {
          "base_uri": "https://localhost:8080/"
        },
        "outputId": "2171d997-4c8e-4a9d-e020-ae6f0e7dfeb4"
      },
      "source": [
        "from google.colab import drive\n",
        "drive.mount('/content/drive')"
      ],
      "execution_count": null,
      "outputs": [
        {
          "output_type": "stream",
          "text": [
            "Mounted at /content/drive\n"
          ],
          "name": "stdout"
        }
      ]
    },
    {
      "cell_type": "markdown",
      "metadata": {
        "id": "qbUHMdiub1NS"
      },
      "source": [
        "## Images\n",
        "\n",
        "The images to be processed must be placed inside `yolov3/data/samples`"
      ]
    },
    {
      "cell_type": "code",
      "metadata": {
        "id": "_2i6f95abY0M",
        "colab": {
          "base_uri": "https://localhost:8080/"
        },
        "outputId": "a0812fa4-6e0b-4b0b-e310-6dfb210463c2"
      },
      "source": [
        "%cd /content/drive/My\\ Drive/Hector_MJ_Google_Drive/Hector_MJ/Mouse\\ wounds/Wound\\ Detection/yolov3/"
      ],
      "execution_count": null,
      "outputs": [
        {
          "output_type": "stream",
          "text": [
            "/content/drive/.shortcut-targets-by-id/175Vkdh2mGaZ7CZsZetvNssl0puand1tS/Hector_MJ_Google_Drive/Hector_MJ/Mouse wounds/Wound Detection/yolov3\n"
          ],
          "name": "stdout"
        }
      ]
    },
    {
      "cell_type": "markdown",
      "metadata": {
        "id": "wFWEcb-uc7w5"
      },
      "source": [
        "This will print the number of files you will process."
      ]
    },
    {
      "cell_type": "code",
      "metadata": {
        "id": "blZfag-OZnWH",
        "colab": {
          "base_uri": "https://localhost:8080/"
        },
        "outputId": "f8f083d3-2371-46d6-b91a-c1c7679f9841"
      },
      "source": [
        "%ls data/samples/ | wc -l"
      ],
      "execution_count": null,
      "outputs": [
        {
          "output_type": "stream",
          "text": [
            "48\n"
          ],
          "name": "stdout"
        }
      ]
    },
    {
      "cell_type": "markdown",
      "metadata": {
        "id": "2YM63Y9tceg2"
      },
      "source": [
        "The output detections and text files will be placed in `yolov3/output`"
      ]
    },
    {
      "cell_type": "code",
      "metadata": {
        "id": "2p_SlvfJcWGU",
        "colab": {
          "base_uri": "https://localhost:8080/"
        },
        "outputId": "93b489b6-145e-4a65-a02f-fd4ffd95ad25"
      },
      "source": [
        "!python3 detect.py --weights weights/last.pt --cfg ./cfg/project.cfg --names ./data/label.names --conf-thres 0.2 --save-txt"
      ],
      "execution_count": null,
      "outputs": [
        {
          "output_type": "stream",
          "text": [
            "Namespace(agnostic_nms=False, augment=False, cfg='./cfg/project.cfg', classes=None, conf_thres=0.2, device='', fourcc='mp4v', half=False, img_size=512, iou_thres=0.6, names='./data/label.names', output='output', save_txt=True, source='data/samples', view_img=False, weights='weights/last.pt')\n",
            "Using CUDA device0 _CudaDeviceProperties(name='Tesla V100-SXM2-16GB', total_memory=16160MB)\n",
            "\n",
            "Model Summary: 225 layers, 6.25733e+07 parameters, 6.25733e+07 gradients\n",
            "image 1/48 data/samples/Michelle  - 1.png: 512x384 1 Wounds, Done. (0.011s)\n",
            "image 2/48 data/samples/Michelle  - 10.png: 512x384 1 Wounds, Done. (0.010s)\n",
            "image 3/48 data/samples/Michelle  - 11.png: 512x384 1 Wounds, Done. (0.010s)\n",
            "image 4/48 data/samples/Michelle  - 12.png: 512x384 1 Wounds, Done. (0.010s)\n",
            "image 5/48 data/samples/Michelle  - 13.png: 512x384 1 Wounds, Done. (0.010s)\n",
            "image 6/48 data/samples/Michelle  - 14.png: 512x384 1 Wounds, Done. (0.010s)\n",
            "image 7/48 data/samples/Michelle  - 15.png: 512x384 1 Wounds, Done. (0.010s)\n",
            "image 8/48 data/samples/Michelle  - 16.png: 512x384 1 Wounds, Done. (0.010s)\n",
            "image 9/48 data/samples/Michelle  - 17.png: 512x384 1 Wounds, Done. (0.010s)\n",
            "image 10/48 data/samples/Michelle  - 18.png: 512x384 1 Wounds, Done. (0.010s)\n",
            "image 11/48 data/samples/Michelle  - 19.png: 512x384 1 Wounds, Done. (0.010s)\n",
            "image 12/48 data/samples/Michelle  - 2.png: 512x384 1 Wounds, Done. (0.010s)\n",
            "image 13/48 data/samples/Michelle  - 20.png: 512x384 1 Wounds, Done. (0.010s)\n",
            "image 14/48 data/samples/Michelle  - 21.png: 512x384 1 Wounds, Done. (0.010s)\n",
            "image 15/48 data/samples/Michelle  - 22.png: 512x384 1 Wounds, Done. (0.010s)\n",
            "image 16/48 data/samples/Michelle  - 23.png: 512x320 1 Wounds, Done. (0.010s)\n",
            "image 17/48 data/samples/Michelle  - 24.png: 512x384 1 Wounds, Done. (0.010s)\n",
            "image 18/48 data/samples/Michelle  - 25.png: 512x384 1 Wounds, Done. (0.010s)\n",
            "image 19/48 data/samples/Michelle  - 26.png: 512x384 1 Wounds, Done. (0.010s)\n",
            "image 20/48 data/samples/Michelle  - 27.png: 512x384 1 Wounds, Done. (0.010s)\n",
            "image 21/48 data/samples/Michelle  - 28.png: 512x384 1 Wounds, Done. (0.010s)\n",
            "image 22/48 data/samples/Michelle  - 29.png: 512x384 1 Wounds, Done. (0.010s)\n",
            "image 23/48 data/samples/Michelle  - 3.png: 512x384 1 Wounds, Done. (0.010s)\n",
            "image 24/48 data/samples/Michelle  - 30.png: 512x384 2 Wounds, Done. (0.010s)\n",
            "image 25/48 data/samples/Michelle  - 31.png: 512x384 1 Wounds, Done. (0.010s)\n",
            "image 26/48 data/samples/Michelle  - 32.png: 512x384 1 Wounds, Done. (0.010s)\n",
            "image 27/48 data/samples/Michelle  - 33.png: 512x384 1 Wounds, Done. (0.010s)\n",
            "image 28/48 data/samples/Michelle  - 34.png: 512x384 1 Wounds, Done. (0.010s)\n",
            "image 29/48 data/samples/Michelle  - 35.png: 512x384 1 Wounds, Done. (0.010s)\n",
            "image 30/48 data/samples/Michelle  - 36.png: 512x384 1 Wounds, Done. (0.010s)\n",
            "image 31/48 data/samples/Michelle  - 37.png: 512x384 1 Wounds, Done. (0.010s)\n",
            "image 32/48 data/samples/Michelle  - 38.png: 512x384 2 Wounds, Done. (0.010s)\n",
            "image 33/48 data/samples/Michelle  - 39.png: 512x384 1 Wounds, Done. (0.010s)\n",
            "image 34/48 data/samples/Michelle  - 4.png: 512x384 1 Wounds, Done. (0.013s)\n",
            "image 35/48 data/samples/Michelle  - 40.png: 512x384 1 Wounds, Done. (0.010s)\n",
            "image 36/48 data/samples/Michelle  - 41.png: 512x384 1 Wounds, Done. (0.010s)\n",
            "image 37/48 data/samples/Michelle  - 42.png: 512x384 2 Wounds, Done. (0.010s)\n",
            "image 38/48 data/samples/Michelle  - 43.png: 512x384 1 Wounds, Done. (0.010s)\n",
            "image 39/48 data/samples/Michelle  - 44.png: 512x384 1 Wounds, Done. (0.010s)\n",
            "image 40/48 data/samples/Michelle  - 45.png: 512x384 1 Wounds, Done. (0.010s)\n",
            "image 41/48 data/samples/Michelle  - 46.png: 512x384 2 Wounds, Done. (0.010s)\n",
            "image 42/48 data/samples/Michelle  - 47.png: 512x384 1 Wounds, Done. (0.010s)\n",
            "image 43/48 data/samples/Michelle  - 48.png: 512x384 1 Wounds, Done. (0.010s)\n",
            "image 44/48 data/samples/Michelle  - 5.png: 512x384 1 Wounds, Done. (0.010s)\n",
            "image 45/48 data/samples/Michelle  - 6.png: 512x384 1 Wounds, Done. (0.010s)\n",
            "image 46/48 data/samples/Michelle  - 7.png: 512x384 1 Wounds, Done. (0.010s)\n",
            "image 47/48 data/samples/Michelle  - 8.png: 512x384 1 Wounds, Done. (0.010s)\n",
            "image 48/48 data/samples/Michelle  - 9.png: 512x384 1 Wounds, Done. (0.010s)\n",
            "Results saved to /content/drive/.shortcut-targets-by-id/175Vkdh2mGaZ7CZsZetvNssl0puand1tS/Hector_MJ_Google_Drive/Hector_MJ/Mouse wounds/Wound Detection/yolov3/output\n",
            "Done. (125.017s)\n"
          ],
          "name": "stdout"
        }
      ]
    },
    {
      "cell_type": "code",
      "metadata": {
        "id": "TybYRMu_2x4A"
      },
      "source": [
        ""
      ],
      "execution_count": null,
      "outputs": []
    }
  ]
}