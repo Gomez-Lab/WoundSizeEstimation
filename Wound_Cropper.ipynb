{
  "nbformat": 4,
  "nbformat_minor": 0,
  "metadata": {
    "colab": {
      "name": "Wound Cropper.ipynb",
      "provenance": [],
      "collapsed_sections": [
        "hhkZThnFdpRj"
      ],
      "authorship_tag": "ABX9TyOEP1cIzJie2kfZP1+kEB/Y",
      "include_colab_link": true
    },
    "kernelspec": {
      "name": "python3",
      "display_name": "Python 3"
    }
  },
  "cells": [
    {
      "cell_type": "markdown",
      "metadata": {
        "id": "view-in-github",
        "colab_type": "text"
      },
      "source": [
        "<a href=\"https://colab.research.google.com/github/Gomez-Lab/WoundSizeEstimation/blob/main/Wound_Cropper.ipynb\" target=\"_parent\"><img src=\"https://colab.research.google.com/assets/colab-badge.svg\" alt=\"Open In Colab\"/></a>"
      ]
    },
    {
      "cell_type": "markdown",
      "metadata": {
        "id": "AcZiG2MhdRLX"
      },
      "source": [
        "# Wound area of interest cropping\n",
        "\n",
        "This notebook will cover cropping the wounded area from the outputs given by the detection algorithm."
      ]
    },
    {
      "cell_type": "markdown",
      "metadata": {
        "id": "hhkZThnFdpRj"
      },
      "source": [
        "### Support for importing files from drive"
      ]
    },
    {
      "cell_type": "code",
      "metadata": {
        "id": "xJjBuYLjhatJ",
        "colab": {
          "base_uri": "https://localhost:8080/"
        },
        "outputId": "3a85c669-f674-4060-987a-036973f41f2b"
      },
      "source": [
        "from google.colab import drive\n",
        "drive.mount('/content/drive')"
      ],
      "execution_count": null,
      "outputs": [
        {
          "output_type": "stream",
          "text": [
            "Mounted at /content/drive\n"
          ],
          "name": "stdout"
        }
      ]
    },
    {
      "cell_type": "markdown",
      "metadata": {
        "id": "lNff5mkydyiM"
      },
      "source": [
        "## Cropping"
      ]
    },
    {
      "cell_type": "markdown",
      "metadata": {
        "id": "KmNPs_6Ed03b"
      },
      "source": [
        "The files to be cropped should be the same (size invariant) as the ones that the Detection algorithm performed inference on. I used the 2x resized images here, to generate 352 x 352 crops centered on the wound detection point"
      ]
    },
    {
      "cell_type": "code",
      "metadata": {
        "id": "IqRViQYsqCpn",
        "colab": {
          "base_uri": "https://localhost:8080/"
        },
        "outputId": "a776b813-7db3-4e2f-e50a-19a474e52815"
      },
      "source": [
        "%cd /content/drive/My\\ Drive/Hector_MJ_Google_Drive/Hector_MJ/Angle_images/New_data"
      ],
      "execution_count": null,
      "outputs": [
        {
          "output_type": "stream",
          "text": [
            "/content/drive/.shortcut-targets-by-id/175Vkdh2mGaZ7CZsZetvNssl0puand1tS/Hector_MJ_Google_Drive/Hector_MJ/Angle_images/New_data\n"
          ],
          "name": "stdout"
        }
      ]
    },
    {
      "cell_type": "code",
      "metadata": {
        "id": "2_F4Qn-xpudH"
      },
      "source": [
        "import os\n",
        "import PIL\n",
        "from PIL import Image\n",
        "import matplotlib.pyplot as plt\n",
        "import numpy as np\n",
        "from pathlib import Path\n",
        "import pandas as pd"
      ],
      "execution_count": null,
      "outputs": []
    },
    {
      "cell_type": "code",
      "metadata": {
        "id": "R_NtarG_-7Q7"
      },
      "source": [
        "directory = \"/content/drive/My Drive/Hector_MJ_Google_Drive/Hector_MJ/Angle_images/New_data\"\n",
        "Path(directory + \"/Small Rotated\").mkdir(parents=True, exist_ok=True)"
      ],
      "execution_count": null,
      "outputs": []
    },
    {
      "cell_type": "code",
      "metadata": {
        "id": "0hmn_ICs_mZ-"
      },
      "source": [
        "df = pd.read_csv(\"angle_key.csv\")"
      ],
      "execution_count": null,
      "outputs": []
    },
    {
      "cell_type": "code",
      "metadata": {
        "colab": {
          "base_uri": "https://localhost:8080/",
          "height": 1000
        },
        "id": "sVP_g1rhAFJ3",
        "outputId": "f84f215e-b41e-4a76-c278-bb8cca124a17"
      },
      "source": [
        "df"
      ],
      "execution_count": null,
      "outputs": [
        {
          "output_type": "execute_result",
          "data": {
            "text/html": [
              "<div>\n",
              "<style scoped>\n",
              "    .dataframe tbody tr th:only-of-type {\n",
              "        vertical-align: middle;\n",
              "    }\n",
              "\n",
              "    .dataframe tbody tr th {\n",
              "        vertical-align: top;\n",
              "    }\n",
              "\n",
              "    .dataframe thead th {\n",
              "        text-align: right;\n",
              "    }\n",
              "</style>\n",
              "<table border=\"1\" class=\"dataframe\">\n",
              "  <thead>\n",
              "    <tr style=\"text-align: right;\">\n",
              "      <th></th>\n",
              "      <th>Coded ID</th>\n",
              "      <th>Mouse ID</th>\n",
              "      <th>Wound</th>\n",
              "      <th>Angle</th>\n",
              "    </tr>\n",
              "  </thead>\n",
              "  <tbody>\n",
              "    <tr>\n",
              "      <th>0</th>\n",
              "      <td>23</td>\n",
              "      <td>A8-1</td>\n",
              "      <td>L</td>\n",
              "      <td>0</td>\n",
              "    </tr>\n",
              "    <tr>\n",
              "      <th>1</th>\n",
              "      <td>46</td>\n",
              "      <td>A8-1</td>\n",
              "      <td>L</td>\n",
              "      <td>-11</td>\n",
              "    </tr>\n",
              "    <tr>\n",
              "      <th>2</th>\n",
              "      <td>47</td>\n",
              "      <td>A8-1</td>\n",
              "      <td>L</td>\n",
              "      <td>-10</td>\n",
              "    </tr>\n",
              "    <tr>\n",
              "      <th>3</th>\n",
              "      <td>1</td>\n",
              "      <td>A8-3</td>\n",
              "      <td>L</td>\n",
              "      <td>0</td>\n",
              "    </tr>\n",
              "    <tr>\n",
              "      <th>4</th>\n",
              "      <td>9</td>\n",
              "      <td>A8-3</td>\n",
              "      <td>L</td>\n",
              "      <td>-12</td>\n",
              "    </tr>\n",
              "    <tr>\n",
              "      <th>5</th>\n",
              "      <td>35</td>\n",
              "      <td>A8-3</td>\n",
              "      <td>L</td>\n",
              "      <td>-12</td>\n",
              "    </tr>\n",
              "    <tr>\n",
              "      <th>6</th>\n",
              "      <td>15</td>\n",
              "      <td>A8-4</td>\n",
              "      <td>L</td>\n",
              "      <td>0</td>\n",
              "    </tr>\n",
              "    <tr>\n",
              "      <th>7</th>\n",
              "      <td>44</td>\n",
              "      <td>A8-4</td>\n",
              "      <td>L</td>\n",
              "      <td>-13</td>\n",
              "    </tr>\n",
              "    <tr>\n",
              "      <th>8</th>\n",
              "      <td>40</td>\n",
              "      <td>A8-4</td>\n",
              "      <td>L</td>\n",
              "      <td>-13</td>\n",
              "    </tr>\n",
              "    <tr>\n",
              "      <th>9</th>\n",
              "      <td>34</td>\n",
              "      <td>A8-5</td>\n",
              "      <td>L</td>\n",
              "      <td>0</td>\n",
              "    </tr>\n",
              "    <tr>\n",
              "      <th>10</th>\n",
              "      <td>48</td>\n",
              "      <td>A8-5</td>\n",
              "      <td>L</td>\n",
              "      <td>-13</td>\n",
              "    </tr>\n",
              "    <tr>\n",
              "      <th>11</th>\n",
              "      <td>29</td>\n",
              "      <td>A8-5</td>\n",
              "      <td>L</td>\n",
              "      <td>-11</td>\n",
              "    </tr>\n",
              "    <tr>\n",
              "      <th>12</th>\n",
              "      <td>32</td>\n",
              "      <td>Y8-1</td>\n",
              "      <td>L</td>\n",
              "      <td>0</td>\n",
              "    </tr>\n",
              "    <tr>\n",
              "      <th>13</th>\n",
              "      <td>27</td>\n",
              "      <td>Y8-1</td>\n",
              "      <td>L</td>\n",
              "      <td>-12</td>\n",
              "    </tr>\n",
              "    <tr>\n",
              "      <th>14</th>\n",
              "      <td>28</td>\n",
              "      <td>Y8-1</td>\n",
              "      <td>L</td>\n",
              "      <td>-12</td>\n",
              "    </tr>\n",
              "    <tr>\n",
              "      <th>15</th>\n",
              "      <td>38</td>\n",
              "      <td>Y8-2</td>\n",
              "      <td>L</td>\n",
              "      <td>0</td>\n",
              "    </tr>\n",
              "    <tr>\n",
              "      <th>16</th>\n",
              "      <td>12</td>\n",
              "      <td>Y8-2</td>\n",
              "      <td>L</td>\n",
              "      <td>-12</td>\n",
              "    </tr>\n",
              "    <tr>\n",
              "      <th>17</th>\n",
              "      <td>13</td>\n",
              "      <td>Y8-2</td>\n",
              "      <td>L</td>\n",
              "      <td>-14</td>\n",
              "    </tr>\n",
              "    <tr>\n",
              "      <th>18</th>\n",
              "      <td>6</td>\n",
              "      <td>Y8-3</td>\n",
              "      <td>L</td>\n",
              "      <td>0</td>\n",
              "    </tr>\n",
              "    <tr>\n",
              "      <th>19</th>\n",
              "      <td>4</td>\n",
              "      <td>Y8-3</td>\n",
              "      <td>L</td>\n",
              "      <td>-13</td>\n",
              "    </tr>\n",
              "    <tr>\n",
              "      <th>20</th>\n",
              "      <td>42</td>\n",
              "      <td>Y8-3</td>\n",
              "      <td>L</td>\n",
              "      <td>-12</td>\n",
              "    </tr>\n",
              "    <tr>\n",
              "      <th>21</th>\n",
              "      <td>20</td>\n",
              "      <td>Y8-4</td>\n",
              "      <td>L</td>\n",
              "      <td>0</td>\n",
              "    </tr>\n",
              "    <tr>\n",
              "      <th>22</th>\n",
              "      <td>3</td>\n",
              "      <td>Y8-4</td>\n",
              "      <td>L</td>\n",
              "      <td>-12</td>\n",
              "    </tr>\n",
              "    <tr>\n",
              "      <th>23</th>\n",
              "      <td>31</td>\n",
              "      <td>Y8-4</td>\n",
              "      <td>L</td>\n",
              "      <td>-13</td>\n",
              "    </tr>\n",
              "    <tr>\n",
              "      <th>24</th>\n",
              "      <td>14</td>\n",
              "      <td>A8-1</td>\n",
              "      <td>R</td>\n",
              "      <td>0</td>\n",
              "    </tr>\n",
              "    <tr>\n",
              "      <th>25</th>\n",
              "      <td>16</td>\n",
              "      <td>A8-1</td>\n",
              "      <td>R</td>\n",
              "      <td>-13</td>\n",
              "    </tr>\n",
              "    <tr>\n",
              "      <th>26</th>\n",
              "      <td>43</td>\n",
              "      <td>A8-1</td>\n",
              "      <td>R</td>\n",
              "      <td>-13</td>\n",
              "    </tr>\n",
              "    <tr>\n",
              "      <th>27</th>\n",
              "      <td>17</td>\n",
              "      <td>A8-3</td>\n",
              "      <td>R</td>\n",
              "      <td>0</td>\n",
              "    </tr>\n",
              "    <tr>\n",
              "      <th>28</th>\n",
              "      <td>41</td>\n",
              "      <td>A8-3</td>\n",
              "      <td>R</td>\n",
              "      <td>-13</td>\n",
              "    </tr>\n",
              "    <tr>\n",
              "      <th>29</th>\n",
              "      <td>10</td>\n",
              "      <td>A8-3</td>\n",
              "      <td>R</td>\n",
              "      <td>-12</td>\n",
              "    </tr>\n",
              "    <tr>\n",
              "      <th>30</th>\n",
              "      <td>19</td>\n",
              "      <td>A8-4</td>\n",
              "      <td>R</td>\n",
              "      <td>0</td>\n",
              "    </tr>\n",
              "    <tr>\n",
              "      <th>31</th>\n",
              "      <td>8</td>\n",
              "      <td>A8-4</td>\n",
              "      <td>R</td>\n",
              "      <td>-13</td>\n",
              "    </tr>\n",
              "    <tr>\n",
              "      <th>32</th>\n",
              "      <td>33</td>\n",
              "      <td>A8-4</td>\n",
              "      <td>R</td>\n",
              "      <td>-13</td>\n",
              "    </tr>\n",
              "    <tr>\n",
              "      <th>33</th>\n",
              "      <td>7</td>\n",
              "      <td>A8-5</td>\n",
              "      <td>R</td>\n",
              "      <td>0</td>\n",
              "    </tr>\n",
              "    <tr>\n",
              "      <th>34</th>\n",
              "      <td>22</td>\n",
              "      <td>A8-5</td>\n",
              "      <td>R</td>\n",
              "      <td>-15</td>\n",
              "    </tr>\n",
              "    <tr>\n",
              "      <th>35</th>\n",
              "      <td>18</td>\n",
              "      <td>A8-5</td>\n",
              "      <td>R</td>\n",
              "      <td>-15</td>\n",
              "    </tr>\n",
              "    <tr>\n",
              "      <th>36</th>\n",
              "      <td>5</td>\n",
              "      <td>Y8-1</td>\n",
              "      <td>R</td>\n",
              "      <td>0</td>\n",
              "    </tr>\n",
              "    <tr>\n",
              "      <th>37</th>\n",
              "      <td>26</td>\n",
              "      <td>Y8-1</td>\n",
              "      <td>R</td>\n",
              "      <td>-12</td>\n",
              "    </tr>\n",
              "    <tr>\n",
              "      <th>38</th>\n",
              "      <td>2</td>\n",
              "      <td>Y8-1</td>\n",
              "      <td>R</td>\n",
              "      <td>-13</td>\n",
              "    </tr>\n",
              "    <tr>\n",
              "      <th>39</th>\n",
              "      <td>11</td>\n",
              "      <td>Y8-2</td>\n",
              "      <td>R</td>\n",
              "      <td>0</td>\n",
              "    </tr>\n",
              "    <tr>\n",
              "      <th>40</th>\n",
              "      <td>37</td>\n",
              "      <td>Y8-2</td>\n",
              "      <td>R</td>\n",
              "      <td>-14</td>\n",
              "    </tr>\n",
              "    <tr>\n",
              "      <th>41</th>\n",
              "      <td>39</td>\n",
              "      <td>Y8-2</td>\n",
              "      <td>R</td>\n",
              "      <td>-12</td>\n",
              "    </tr>\n",
              "    <tr>\n",
              "      <th>42</th>\n",
              "      <td>24</td>\n",
              "      <td>Y8-3</td>\n",
              "      <td>R</td>\n",
              "      <td>0</td>\n",
              "    </tr>\n",
              "    <tr>\n",
              "      <th>43</th>\n",
              "      <td>30</td>\n",
              "      <td>Y8-3</td>\n",
              "      <td>R</td>\n",
              "      <td>-13</td>\n",
              "    </tr>\n",
              "    <tr>\n",
              "      <th>44</th>\n",
              "      <td>45</td>\n",
              "      <td>Y8-3</td>\n",
              "      <td>R</td>\n",
              "      <td>-13</td>\n",
              "    </tr>\n",
              "    <tr>\n",
              "      <th>45</th>\n",
              "      <td>36</td>\n",
              "      <td>Y8-4</td>\n",
              "      <td>R</td>\n",
              "      <td>0</td>\n",
              "    </tr>\n",
              "    <tr>\n",
              "      <th>46</th>\n",
              "      <td>25</td>\n",
              "      <td>Y8-4</td>\n",
              "      <td>R</td>\n",
              "      <td>-13</td>\n",
              "    </tr>\n",
              "    <tr>\n",
              "      <th>47</th>\n",
              "      <td>21</td>\n",
              "      <td>Y8-4</td>\n",
              "      <td>R</td>\n",
              "      <td>-13</td>\n",
              "    </tr>\n",
              "  </tbody>\n",
              "</table>\n",
              "</div>"
            ],
            "text/plain": [
              "    Coded ID Mouse ID Wound  Angle\n",
              "0         23     A8-1     L      0\n",
              "1         46     A8-1     L    -11\n",
              "2         47     A8-1     L    -10\n",
              "3          1     A8-3     L      0\n",
              "4          9     A8-3     L    -12\n",
              "5         35     A8-3     L    -12\n",
              "6         15     A8-4     L      0\n",
              "7         44     A8-4     L    -13\n",
              "8         40     A8-4     L    -13\n",
              "9         34     A8-5     L      0\n",
              "10        48     A8-5     L    -13\n",
              "11        29     A8-5     L    -11\n",
              "12        32     Y8-1     L      0\n",
              "13        27     Y8-1     L    -12\n",
              "14        28     Y8-1     L    -12\n",
              "15        38     Y8-2     L      0\n",
              "16        12     Y8-2     L    -12\n",
              "17        13     Y8-2     L    -14\n",
              "18         6     Y8-3     L      0\n",
              "19         4     Y8-3     L    -13\n",
              "20        42     Y8-3     L    -12\n",
              "21        20     Y8-4     L      0\n",
              "22         3     Y8-4     L    -12\n",
              "23        31     Y8-4     L    -13\n",
              "24        14     A8-1     R      0\n",
              "25        16     A8-1     R    -13\n",
              "26        43     A8-1     R    -13\n",
              "27        17     A8-3     R      0\n",
              "28        41     A8-3     R    -13\n",
              "29        10     A8-3     R    -12\n",
              "30        19     A8-4     R      0\n",
              "31         8     A8-4     R    -13\n",
              "32        33     A8-4     R    -13\n",
              "33         7     A8-5     R      0\n",
              "34        22     A8-5     R    -15\n",
              "35        18     A8-5     R    -15\n",
              "36         5     Y8-1     R      0\n",
              "37        26     Y8-1     R    -12\n",
              "38         2     Y8-1     R    -13\n",
              "39        11     Y8-2     R      0\n",
              "40        37     Y8-2     R    -14\n",
              "41        39     Y8-2     R    -12\n",
              "42        24     Y8-3     R      0\n",
              "43        30     Y8-3     R    -13\n",
              "44        45     Y8-3     R    -13\n",
              "45        36     Y8-4     R      0\n",
              "46        25     Y8-4     R    -13\n",
              "47        21     Y8-4     R    -13"
            ]
          },
          "metadata": {
            "tags": []
          },
          "execution_count": 6
        }
      ]
    },
    {
      "cell_type": "code",
      "metadata": {
        "colab": {
          "base_uri": "https://localhost:8080/"
        },
        "id": "0_7sFr8F_AJA",
        "outputId": "35b2da72-ac7a-4965-c86b-b1d7ea6a5d70"
      },
      "source": [
        "count = 0\n",
        "for file_name in os.listdir(directory):\n",
        "\n",
        "  if file_name[-5:] == '.tiff' or file_name[-4:] == '.tif' or file_name[-4:] == '.JPG' or file_name[-4:] == '.jpg':\n",
        "      print(\"Processing %s\" % file_name)\n",
        "      image = Image.open(os.path.join(directory, file_name))\n",
        "\n",
        "      x,y = image.size\n",
        "      new_dimensions = (x//2, y//2)\n",
        "      output = image.resize(new_dimensions, Image.ANTIALIAS)\n",
        "\n",
        "      if x > y:\n",
        "          output = output.rotate(90, expand=True)\n",
        "\n",
        "      '''\n",
        "      loc = file_name.split(\".\")[0].split(\" \")[-1]\n",
        "      meta = df.loc[df['Coded ID'] == int(loc)].values[0]\n",
        "\n",
        "      day = \"Day 0_\"\n",
        "      (loc, id, side, angle) = meta\n",
        "\n",
        "      out_name = str(loc) + \"_\" + id + \"-\" + side + \"_Angle:\" + str(angle) + \".png\"\n",
        "      '''\n",
        "      out_name = file_name.split(\".\")[0] + \".png\"\n",
        "      output_file_name = os.path.join(directory + \"/Small Rotated\", out_name)\n",
        "      output.save(output_file_name, \"PNG\", quality = 95)\n",
        "      count += 1\n",
        "\n",
        "print(\"All done, processed: \", count)"
      ],
      "execution_count": null,
      "outputs": [
        {
          "output_type": "stream",
          "text": [
            "Processing Michelle  - 26.JPG\n",
            "Processing Michelle  - 27.JPG\n",
            "Processing Michelle  - 28.JPG\n",
            "Processing Michelle  - 29.JPG\n",
            "Processing Michelle  - 30.JPG\n",
            "Processing Michelle  - 31.JPG\n",
            "Processing Michelle  - 32.JPG\n",
            "Processing Michelle  - 33.JPG\n",
            "Processing Michelle  - 34.JPG\n",
            "Processing Michelle  - 35.JPG\n",
            "Processing Michelle  - 36.JPG\n",
            "Processing Michelle  - 37.JPG\n",
            "Processing Michelle  - 38.JPG\n",
            "Processing Michelle  - 39.JPG\n",
            "Processing Michelle  - 40.JPG\n",
            "Processing Michelle  - 41.JPG\n",
            "Processing Michelle  - 42.JPG\n",
            "Processing Michelle  - 43.JPG\n",
            "Processing Michelle  - 44.JPG\n",
            "Processing Michelle  - 45.JPG\n",
            "Processing Michelle  - 46.JPG\n",
            "Processing Michelle  - 47.JPG\n",
            "Processing Michelle  - 48.JPG\n",
            "Processing Michelle  - 1.JPG\n",
            "Processing Michelle  - 2.JPG\n",
            "Processing Michelle  - 3.JPG\n",
            "Processing Michelle  - 4.JPG\n",
            "Processing Michelle  - 5.JPG\n",
            "Processing Michelle  - 6.JPG\n",
            "Processing Michelle  - 7.JPG\n",
            "Processing Michelle  - 8.JPG\n",
            "Processing Michelle  - 9.JPG\n",
            "Processing Michelle  - 10.JPG\n",
            "Processing Michelle  - 11.JPG\n",
            "Processing Michelle  - 12.JPG\n",
            "Processing Michelle  - 13.JPG\n",
            "Processing Michelle  - 14.JPG\n",
            "Processing Michelle  - 15.JPG\n",
            "Processing Michelle  - 16.JPG\n",
            "Processing Michelle  - 17.JPG\n",
            "Processing Michelle  - 18.JPG\n",
            "Processing Michelle  - 19.JPG\n",
            "Processing Michelle  - 20.JPG\n",
            "Processing Michelle  - 21.JPG\n",
            "Processing Michelle  - 22.JPG\n",
            "Processing Michelle  - 23.jpg\n",
            "Processing Michelle  - 24.JPG\n",
            "Processing Michelle  - 25.JPG\n",
            "All done, processed:  48\n"
          ],
          "name": "stdout"
        }
      ]
    },
    {
      "cell_type": "code",
      "metadata": {
        "colab": {
          "base_uri": "https://localhost:8080/"
        },
        "id": "-ocP0EvwEHrP",
        "outputId": "c822d554-1555-4eaf-abb9-046c2d7569c6"
      },
      "source": [
        "%cd Small\\ Rotated"
      ],
      "execution_count": null,
      "outputs": [
        {
          "output_type": "stream",
          "text": [
            "/content/drive/.shortcut-targets-by-id/175Vkdh2mGaZ7CZsZetvNssl0puand1tS/Hector_MJ_Google_Drive/Hector_MJ/Angle_images/New_data/Small Rotated\n"
          ],
          "name": "stdout"
        }
      ]
    },
    {
      "cell_type": "code",
      "metadata": {
        "id": "kP66zyGmqfNx",
        "colab": {
          "base_uri": "https://localhost:8080/",
          "height": 269
        },
        "outputId": "fb39b3c1-d562-4c06-dbcc-673b87a5524a"
      },
      "source": [
        "image = Image.open(os.listdir('.')[0])\n",
        "\n",
        "im_array = np.asarray(image)\n",
        "plt.imshow(im_array)\n",
        "plt.show()"
      ],
      "execution_count": null,
      "outputs": [
        {
          "output_type": "display_data",
          "data": {
            "image/png": "[encoded data removed]",
            "text/plain": [
              "<Figure size 432x288 with 1 Axes>"
            ]
          },
          "metadata": {
            "tags": [],
            "needs_background": "light"
          }
        }
      ]
    },
    {
      "cell_type": "code",
      "metadata": {
        "id": "0CYUNA16q8Qg",
        "colab": {
          "base_uri": "https://localhost:8080/"
        },
        "outputId": "65df80de-7f2c-401f-f8ff-157150fd79a3"
      },
      "source": [
        "width, height = image.size\n",
        "print(width, height)"
      ],
      "execution_count": null,
      "outputs": [
        {
          "output_type": "stream",
          "text": [
            "1500 2000\n"
          ],
          "name": "stdout"
        }
      ]
    },
    {
      "cell_type": "code",
      "metadata": {
        "id": "JaFXKNkRvg1x",
        "colab": {
          "base_uri": "https://localhost:8080/"
        },
        "outputId": "b1e6b89e-3cf5-4893-ad3d-c62028aa8df9"
      },
      "source": [
        "%ls -1 | wc -l"
      ],
      "execution_count": null,
      "outputs": [
        {
          "output_type": "stream",
          "text": [
            "48\n"
          ],
          "name": "stdout"
        }
      ]
    },
    {
      "cell_type": "code",
      "metadata": {
        "colab": {
          "base_uri": "https://localhost:8080/"
        },
        "id": "1jtiGT2cH2T7",
        "outputId": "83e80150-8f4e-4484-f9b7-4e0b83cfe80f"
      },
      "source": [
        "%ls"
      ],
      "execution_count": null,
      "outputs": [
        {
          "output_type": "stream",
          "text": [
            "'Michelle  - 10.png'  'Michelle  - 25.png'  'Michelle  - 3.png'\n",
            "'Michelle  - 11.png'  'Michelle  - 26.png'  'Michelle  - 40.png'\n",
            "'Michelle  - 12.png'  'Michelle  - 27.png'  'Michelle  - 41.png'\n",
            "'Michelle  - 13.png'  'Michelle  - 28.png'  'Michelle  - 42.png'\n",
            "'Michelle  - 14.png'  'Michelle  - 29.png'  'Michelle  - 43.png'\n",
            "'Michelle  - 15.png'  'Michelle  - 2.png'   'Michelle  - 44.png'\n",
            "'Michelle  - 16.png'  'Michelle  - 30.png'  'Michelle  - 45.png'\n",
            "'Michelle  - 17.png'  'Michelle  - 31.png'  'Michelle  - 46.png'\n",
            "'Michelle  - 18.png'  'Michelle  - 32.png'  'Michelle  - 47.png'\n",
            "'Michelle  - 19.png'  'Michelle  - 33.png'  'Michelle  - 48.png'\n",
            "'Michelle  - 1.png'   'Michelle  - 34.png'  'Michelle  - 4.png'\n",
            "'Michelle  - 20.png'  'Michelle  - 35.png'  'Michelle  - 5.png'\n",
            "'Michelle  - 21.png'  'Michelle  - 36.png'  'Michelle  - 6.png'\n",
            "'Michelle  - 22.png'  'Michelle  - 37.png'  'Michelle  - 7.png'\n",
            "'Michelle  - 23.png'  'Michelle  - 38.png'  'Michelle  - 8.png'\n",
            "'Michelle  - 24.png'  'Michelle  - 39.png'  'Michelle  - 9.png'\n"
          ],
          "name": "stdout"
        }
      ]
    },
    {
      "cell_type": "code",
      "metadata": {
        "colab": {
          "base_uri": "https://localhost:8080/",
          "height": 1000
        },
        "id": "VImA1eY_hk0y",
        "outputId": "c47912b3-04ba-4574-b407-63ee49b8cd73"
      },
      "source": [
        "df"
      ],
      "execution_count": null,
      "outputs": [
        {
          "output_type": "execute_result",
          "data": {
            "text/html": [
              "<div>\n",
              "<style scoped>\n",
              "    .dataframe tbody tr th:only-of-type {\n",
              "        vertical-align: middle;\n",
              "    }\n",
              "\n",
              "    .dataframe tbody tr th {\n",
              "        vertical-align: top;\n",
              "    }\n",
              "\n",
              "    .dataframe thead th {\n",
              "        text-align: right;\n",
              "    }\n",
              "</style>\n",
              "<table border=\"1\" class=\"dataframe\">\n",
              "  <thead>\n",
              "    <tr style=\"text-align: right;\">\n",
              "      <th></th>\n",
              "      <th>Coded ID</th>\n",
              "      <th>Mouse ID</th>\n",
              "      <th>Wound</th>\n",
              "      <th>Angle</th>\n",
              "    </tr>\n",
              "  </thead>\n",
              "  <tbody>\n",
              "    <tr>\n",
              "      <th>0</th>\n",
              "      <td>23</td>\n",
              "      <td>A8-1</td>\n",
              "      <td>L</td>\n",
              "      <td>0</td>\n",
              "    </tr>\n",
              "    <tr>\n",
              "      <th>1</th>\n",
              "      <td>46</td>\n",
              "      <td>A8-1</td>\n",
              "      <td>L</td>\n",
              "      <td>-11</td>\n",
              "    </tr>\n",
              "    <tr>\n",
              "      <th>2</th>\n",
              "      <td>47</td>\n",
              "      <td>A8-1</td>\n",
              "      <td>L</td>\n",
              "      <td>-10</td>\n",
              "    </tr>\n",
              "    <tr>\n",
              "      <th>3</th>\n",
              "      <td>1</td>\n",
              "      <td>A8-3</td>\n",
              "      <td>L</td>\n",
              "      <td>0</td>\n",
              "    </tr>\n",
              "    <tr>\n",
              "      <th>4</th>\n",
              "      <td>9</td>\n",
              "      <td>A8-3</td>\n",
              "      <td>L</td>\n",
              "      <td>-12</td>\n",
              "    </tr>\n",
              "    <tr>\n",
              "      <th>5</th>\n",
              "      <td>35</td>\n",
              "      <td>A8-3</td>\n",
              "      <td>L</td>\n",
              "      <td>-12</td>\n",
              "    </tr>\n",
              "    <tr>\n",
              "      <th>6</th>\n",
              "      <td>15</td>\n",
              "      <td>A8-4</td>\n",
              "      <td>L</td>\n",
              "      <td>0</td>\n",
              "    </tr>\n",
              "    <tr>\n",
              "      <th>7</th>\n",
              "      <td>44</td>\n",
              "      <td>A8-4</td>\n",
              "      <td>L</td>\n",
              "      <td>-13</td>\n",
              "    </tr>\n",
              "    <tr>\n",
              "      <th>8</th>\n",
              "      <td>40</td>\n",
              "      <td>A8-4</td>\n",
              "      <td>L</td>\n",
              "      <td>-13</td>\n",
              "    </tr>\n",
              "    <tr>\n",
              "      <th>9</th>\n",
              "      <td>34</td>\n",
              "      <td>A8-5</td>\n",
              "      <td>L</td>\n",
              "      <td>0</td>\n",
              "    </tr>\n",
              "    <tr>\n",
              "      <th>10</th>\n",
              "      <td>48</td>\n",
              "      <td>A8-5</td>\n",
              "      <td>L</td>\n",
              "      <td>-13</td>\n",
              "    </tr>\n",
              "    <tr>\n",
              "      <th>11</th>\n",
              "      <td>29</td>\n",
              "      <td>A8-5</td>\n",
              "      <td>L</td>\n",
              "      <td>-11</td>\n",
              "    </tr>\n",
              "    <tr>\n",
              "      <th>12</th>\n",
              "      <td>32</td>\n",
              "      <td>Y8-1</td>\n",
              "      <td>L</td>\n",
              "      <td>0</td>\n",
              "    </tr>\n",
              "    <tr>\n",
              "      <th>13</th>\n",
              "      <td>27</td>\n",
              "      <td>Y8-1</td>\n",
              "      <td>L</td>\n",
              "      <td>-12</td>\n",
              "    </tr>\n",
              "    <tr>\n",
              "      <th>14</th>\n",
              "      <td>28</td>\n",
              "      <td>Y8-1</td>\n",
              "      <td>L</td>\n",
              "      <td>-12</td>\n",
              "    </tr>\n",
              "    <tr>\n",
              "      <th>15</th>\n",
              "      <td>38</td>\n",
              "      <td>Y8-2</td>\n",
              "      <td>L</td>\n",
              "      <td>0</td>\n",
              "    </tr>\n",
              "    <tr>\n",
              "      <th>16</th>\n",
              "      <td>12</td>\n",
              "      <td>Y8-2</td>\n",
              "      <td>L</td>\n",
              "      <td>-12</td>\n",
              "    </tr>\n",
              "    <tr>\n",
              "      <th>17</th>\n",
              "      <td>13</td>\n",
              "      <td>Y8-2</td>\n",
              "      <td>L</td>\n",
              "      <td>-14</td>\n",
              "    </tr>\n",
              "    <tr>\n",
              "      <th>18</th>\n",
              "      <td>6</td>\n",
              "      <td>Y8-3</td>\n",
              "      <td>L</td>\n",
              "      <td>0</td>\n",
              "    </tr>\n",
              "    <tr>\n",
              "      <th>19</th>\n",
              "      <td>4</td>\n",
              "      <td>Y8-3</td>\n",
              "      <td>L</td>\n",
              "      <td>-13</td>\n",
              "    </tr>\n",
              "    <tr>\n",
              "      <th>20</th>\n",
              "      <td>42</td>\n",
              "      <td>Y8-3</td>\n",
              "      <td>L</td>\n",
              "      <td>-12</td>\n",
              "    </tr>\n",
              "    <tr>\n",
              "      <th>21</th>\n",
              "      <td>20</td>\n",
              "      <td>Y8-4</td>\n",
              "      <td>L</td>\n",
              "      <td>0</td>\n",
              "    </tr>\n",
              "    <tr>\n",
              "      <th>22</th>\n",
              "      <td>3</td>\n",
              "      <td>Y8-4</td>\n",
              "      <td>L</td>\n",
              "      <td>-12</td>\n",
              "    </tr>\n",
              "    <tr>\n",
              "      <th>23</th>\n",
              "      <td>31</td>\n",
              "      <td>Y8-4</td>\n",
              "      <td>L</td>\n",
              "      <td>-13</td>\n",
              "    </tr>\n",
              "    <tr>\n",
              "      <th>24</th>\n",
              "      <td>14</td>\n",
              "      <td>A8-1</td>\n",
              "      <td>R</td>\n",
              "      <td>0</td>\n",
              "    </tr>\n",
              "    <tr>\n",
              "      <th>25</th>\n",
              "      <td>16</td>\n",
              "      <td>A8-1</td>\n",
              "      <td>R</td>\n",
              "      <td>-13</td>\n",
              "    </tr>\n",
              "    <tr>\n",
              "      <th>26</th>\n",
              "      <td>43</td>\n",
              "      <td>A8-1</td>\n",
              "      <td>R</td>\n",
              "      <td>-13</td>\n",
              "    </tr>\n",
              "    <tr>\n",
              "      <th>27</th>\n",
              "      <td>17</td>\n",
              "      <td>A8-3</td>\n",
              "      <td>R</td>\n",
              "      <td>0</td>\n",
              "    </tr>\n",
              "    <tr>\n",
              "      <th>28</th>\n",
              "      <td>41</td>\n",
              "      <td>A8-3</td>\n",
              "      <td>R</td>\n",
              "      <td>-13</td>\n",
              "    </tr>\n",
              "    <tr>\n",
              "      <th>29</th>\n",
              "      <td>10</td>\n",
              "      <td>A8-3</td>\n",
              "      <td>R</td>\n",
              "      <td>-12</td>\n",
              "    </tr>\n",
              "    <tr>\n",
              "      <th>30</th>\n",
              "      <td>19</td>\n",
              "      <td>A8-4</td>\n",
              "      <td>R</td>\n",
              "      <td>0</td>\n",
              "    </tr>\n",
              "    <tr>\n",
              "      <th>31</th>\n",
              "      <td>8</td>\n",
              "      <td>A8-4</td>\n",
              "      <td>R</td>\n",
              "      <td>-13</td>\n",
              "    </tr>\n",
              "    <tr>\n",
              "      <th>32</th>\n",
              "      <td>33</td>\n",
              "      <td>A8-4</td>\n",
              "      <td>R</td>\n",
              "      <td>-13</td>\n",
              "    </tr>\n",
              "    <tr>\n",
              "      <th>33</th>\n",
              "      <td>7</td>\n",
              "      <td>A8-5</td>\n",
              "      <td>R</td>\n",
              "      <td>0</td>\n",
              "    </tr>\n",
              "    <tr>\n",
              "      <th>34</th>\n",
              "      <td>22</td>\n",
              "      <td>A8-5</td>\n",
              "      <td>R</td>\n",
              "      <td>-15</td>\n",
              "    </tr>\n",
              "    <tr>\n",
              "      <th>35</th>\n",
              "      <td>18</td>\n",
              "      <td>A8-5</td>\n",
              "      <td>R</td>\n",
              "      <td>-15</td>\n",
              "    </tr>\n",
              "    <tr>\n",
              "      <th>36</th>\n",
              "      <td>5</td>\n",
              "      <td>Y8-1</td>\n",
              "      <td>R</td>\n",
              "      <td>0</td>\n",
              "    </tr>\n",
              "    <tr>\n",
              "      <th>37</th>\n",
              "      <td>26</td>\n",
              "      <td>Y8-1</td>\n",
              "      <td>R</td>\n",
              "      <td>-12</td>\n",
              "    </tr>\n",
              "    <tr>\n",
              "      <th>38</th>\n",
              "      <td>2</td>\n",
              "      <td>Y8-1</td>\n",
              "      <td>R</td>\n",
              "      <td>-13</td>\n",
              "    </tr>\n",
              "    <tr>\n",
              "      <th>39</th>\n",
              "      <td>11</td>\n",
              "      <td>Y8-2</td>\n",
              "      <td>R</td>\n",
              "      <td>0</td>\n",
              "    </tr>\n",
              "    <tr>\n",
              "      <th>40</th>\n",
              "      <td>37</td>\n",
              "      <td>Y8-2</td>\n",
              "      <td>R</td>\n",
              "      <td>-14</td>\n",
              "    </tr>\n",
              "    <tr>\n",
              "      <th>41</th>\n",
              "      <td>39</td>\n",
              "      <td>Y8-2</td>\n",
              "      <td>R</td>\n",
              "      <td>-12</td>\n",
              "    </tr>\n",
              "    <tr>\n",
              "      <th>42</th>\n",
              "      <td>24</td>\n",
              "      <td>Y8-3</td>\n",
              "      <td>R</td>\n",
              "      <td>0</td>\n",
              "    </tr>\n",
              "    <tr>\n",
              "      <th>43</th>\n",
              "      <td>30</td>\n",
              "      <td>Y8-3</td>\n",
              "      <td>R</td>\n",
              "      <td>-13</td>\n",
              "    </tr>\n",
              "    <tr>\n",
              "      <th>44</th>\n",
              "      <td>45</td>\n",
              "      <td>Y8-3</td>\n",
              "      <td>R</td>\n",
              "      <td>-13</td>\n",
              "    </tr>\n",
              "    <tr>\n",
              "      <th>45</th>\n",
              "      <td>36</td>\n",
              "      <td>Y8-4</td>\n",
              "      <td>R</td>\n",
              "      <td>0</td>\n",
              "    </tr>\n",
              "    <tr>\n",
              "      <th>46</th>\n",
              "      <td>25</td>\n",
              "      <td>Y8-4</td>\n",
              "      <td>R</td>\n",
              "      <td>-13</td>\n",
              "    </tr>\n",
              "    <tr>\n",
              "      <th>47</th>\n",
              "      <td>21</td>\n",
              "      <td>Y8-4</td>\n",
              "      <td>R</td>\n",
              "      <td>-13</td>\n",
              "    </tr>\n",
              "  </tbody>\n",
              "</table>\n",
              "</div>"
            ],
            "text/plain": [
              "    Coded ID Mouse ID Wound  Angle\n",
              "0         23     A8-1     L      0\n",
              "1         46     A8-1     L    -11\n",
              "2         47     A8-1     L    -10\n",
              "3          1     A8-3     L      0\n",
              "4          9     A8-3     L    -12\n",
              "5         35     A8-3     L    -12\n",
              "6         15     A8-4     L      0\n",
              "7         44     A8-4     L    -13\n",
              "8         40     A8-4     L    -13\n",
              "9         34     A8-5     L      0\n",
              "10        48     A8-5     L    -13\n",
              "11        29     A8-5     L    -11\n",
              "12        32     Y8-1     L      0\n",
              "13        27     Y8-1     L    -12\n",
              "14        28     Y8-1     L    -12\n",
              "15        38     Y8-2     L      0\n",
              "16        12     Y8-2     L    -12\n",
              "17        13     Y8-2     L    -14\n",
              "18         6     Y8-3     L      0\n",
              "19         4     Y8-3     L    -13\n",
              "20        42     Y8-3     L    -12\n",
              "21        20     Y8-4     L      0\n",
              "22         3     Y8-4     L    -12\n",
              "23        31     Y8-4     L    -13\n",
              "24        14     A8-1     R      0\n",
              "25        16     A8-1     R    -13\n",
              "26        43     A8-1     R    -13\n",
              "27        17     A8-3     R      0\n",
              "28        41     A8-3     R    -13\n",
              "29        10     A8-3     R    -12\n",
              "30        19     A8-4     R      0\n",
              "31         8     A8-4     R    -13\n",
              "32        33     A8-4     R    -13\n",
              "33         7     A8-5     R      0\n",
              "34        22     A8-5     R    -15\n",
              "35        18     A8-5     R    -15\n",
              "36         5     Y8-1     R      0\n",
              "37        26     Y8-1     R    -12\n",
              "38         2     Y8-1     R    -13\n",
              "39        11     Y8-2     R      0\n",
              "40        37     Y8-2     R    -14\n",
              "41        39     Y8-2     R    -12\n",
              "42        24     Y8-3     R      0\n",
              "43        30     Y8-3     R    -13\n",
              "44        45     Y8-3     R    -13\n",
              "45        36     Y8-4     R      0\n",
              "46        25     Y8-4     R    -13\n",
              "47        21     Y8-4     R    -13"
            ]
          },
          "metadata": {
            "tags": []
          },
          "execution_count": 45
        }
      ]
    },
    {
      "cell_type": "code",
      "metadata": {
        "id": "3n0uN9qMfsMg"
      },
      "source": [
        "all_matches = df.loc[df['Mouse ID'] == \"A8-3\"]"
      ],
      "execution_count": null,
      "outputs": []
    },
    {
      "cell_type": "code",
      "metadata": {
        "id": "2jL1Qv0YgIDX"
      },
      "source": [
        "side_matches = all_matches.loc[df['Wound'] == \"L\"]"
      ],
      "execution_count": null,
      "outputs": []
    },
    {
      "cell_type": "code",
      "metadata": {
        "colab": {
          "base_uri": "https://localhost:8080/",
          "height": 142
        },
        "id": "kTKpqD29gh5F",
        "outputId": "c00d46eb-a2db-4ae1-aba9-1b600950012a"
      },
      "source": [
        "side_matches"
      ],
      "execution_count": null,
      "outputs": [
        {
          "output_type": "execute_result",
          "data": {
            "text/html": [
              "<div>\n",
              "<style scoped>\n",
              "    .dataframe tbody tr th:only-of-type {\n",
              "        vertical-align: middle;\n",
              "    }\n",
              "\n",
              "    .dataframe tbody tr th {\n",
              "        vertical-align: top;\n",
              "    }\n",
              "\n",
              "    .dataframe thead th {\n",
              "        text-align: right;\n",
              "    }\n",
              "</style>\n",
              "<table border=\"1\" class=\"dataframe\">\n",
              "  <thead>\n",
              "    <tr style=\"text-align: right;\">\n",
              "      <th></th>\n",
              "      <th>Coded ID</th>\n",
              "      <th>Mouse ID</th>\n",
              "      <th>Wound</th>\n",
              "      <th>Angle</th>\n",
              "    </tr>\n",
              "  </thead>\n",
              "  <tbody>\n",
              "    <tr>\n",
              "      <th>3</th>\n",
              "      <td>1</td>\n",
              "      <td>A8-3</td>\n",
              "      <td>L</td>\n",
              "      <td>0</td>\n",
              "    </tr>\n",
              "    <tr>\n",
              "      <th>4</th>\n",
              "      <td>9</td>\n",
              "      <td>A8-3</td>\n",
              "      <td>L</td>\n",
              "      <td>-12</td>\n",
              "    </tr>\n",
              "    <tr>\n",
              "      <th>5</th>\n",
              "      <td>35</td>\n",
              "      <td>A8-3</td>\n",
              "      <td>L</td>\n",
              "      <td>-12</td>\n",
              "    </tr>\n",
              "  </tbody>\n",
              "</table>\n",
              "</div>"
            ],
            "text/plain": [
              "   Coded ID Mouse ID Wound  Angle\n",
              "3         1     A8-3     L      0\n",
              "4         9     A8-3     L    -12\n",
              "5        35     A8-3     L    -12"
            ]
          },
          "metadata": {
            "tags": []
          },
          "execution_count": 48
        }
      ]
    },
    {
      "cell_type": "code",
      "metadata": {
        "id": "bK1Q3ot-gmLh"
      },
      "source": [
        "ordered_list = side_matches[\"Coded ID\"].tolist()"
      ],
      "execution_count": null,
      "outputs": []
    },
    {
      "cell_type": "code",
      "metadata": {
        "colab": {
          "base_uri": "https://localhost:8080/"
        },
        "id": "DtSJf4z9h8q-",
        "outputId": "cce9dea6-56b4-4c34-d067-92f5c73e7def"
      },
      "source": [
        "ordered_list.index(35)"
      ],
      "execution_count": null,
      "outputs": [
        {
          "output_type": "execute_result",
          "data": {
            "text/plain": [
              "2"
            ]
          },
          "metadata": {
            "tags": []
          },
          "execution_count": 57
        }
      ]
    },
    {
      "cell_type": "code",
      "metadata": {
        "id": "QPiC9kSqpu6x",
        "colab": {
          "base_uri": "https://localhost:8080/"
        },
        "outputId": "e48f5f25-0c74-4891-c4b8-9f179b4fa7e3"
      },
      "source": [
        "i = 0\n",
        "for fileName in os.listdir(\".\"):\n",
        "\n",
        "    if fileName[-4:] == '.png' or fileName[-4:] == '.jpg':\n",
        "\n",
        "        # This text file contains the detection coordinates\n",
        "        textDir = '/content/drive/My Drive/Hector_MJ_Google_Drive/Hector_MJ/Mouse wounds/Wound Detection/yolov3/output/'\n",
        "        textFile = textDir + fileName[:-4] + '.txt'\n",
        "\n",
        "        print(\"Cropping\", fileName)\n",
        "        with open(textFile) as info:\n",
        "\n",
        "            points = (info.readline().split(\" \"))\n",
        "\n",
        "            image = Image.open(fileName)\n",
        "            width, height = image.size\n",
        "            x = float(points[1]) * width\n",
        "            y = float(points[2]) * height\n",
        "            cropWidth = 176\n",
        "            cropHeight = 176\n",
        "            left = round(x - cropWidth, 1)\n",
        "            right = round(x + cropWidth, 1)\n",
        "            top = round(y - cropHeight, 1)\n",
        "            bottom = round(y + cropHeight, 1)\n",
        "\n",
        "            crop = image.crop((left, top, right, bottom))\n",
        "\n",
        "            # You can chage this to any (existing) directory in order to\n",
        "            # change the save location\n",
        "            loc = fileName.split(\".\")[0].split(\" \")[-1]\n",
        "            meta = df.loc[df['Coded ID'] == int(loc)].values[0]\n",
        "\n",
        "            (loc, id, side, angle) = meta\n",
        "\n",
        "            ## Dealing with the Day stuff\n",
        "            all_matches = df.loc[df['Mouse ID'] == id]\n",
        "            side_matches = all_matches.loc[df['Wound'] == side]\n",
        "            ordered_list = side_matches['Coded ID'].tolist()\n",
        "            day_number = ordered_list.index(loc)\n",
        "\n",
        "            day = \"Day \" + str(day_number)\n",
        "\n",
        "            ##\n",
        "\n",
        "            out_name = day + \"_\" + id + \"-\" + side + \", Angle \" + str(angle) + \", Loc \" + str(loc) + \".png\"\n",
        "\n",
        "            crop.save('/content/drive/My Drive/Hector_MJ_Google_Drive/Pipeline/crops_angled/' + out_name)\n",
        "            i+=1\n",
        "\n",
        "print(\"Total cropped:\", i)"
      ],
      "execution_count": null,
      "outputs": [
        {
          "output_type": "stream",
          "text": [
            "Cropping Michelle  - 26.png\n",
            "Cropping Michelle  - 27.png\n",
            "Cropping Michelle  - 28.png\n",
            "Cropping Michelle  - 29.png\n",
            "Cropping Michelle  - 30.png\n",
            "Cropping Michelle  - 31.png\n",
            "Cropping Michelle  - 32.png\n",
            "Cropping Michelle  - 33.png\n",
            "Cropping Michelle  - 34.png\n",
            "Cropping Michelle  - 35.png\n",
            "Cropping Michelle  - 36.png\n",
            "Cropping Michelle  - 37.png\n",
            "Cropping Michelle  - 38.png\n",
            "Cropping Michelle  - 39.png\n",
            "Cropping Michelle  - 40.png\n",
            "Cropping Michelle  - 41.png\n",
            "Cropping Michelle  - 42.png\n",
            "Cropping Michelle  - 43.png\n",
            "Cropping Michelle  - 44.png\n",
            "Cropping Michelle  - 45.png\n",
            "Cropping Michelle  - 46.png\n",
            "Cropping Michelle  - 47.png\n",
            "Cropping Michelle  - 48.png\n",
            "Cropping Michelle  - 1.png\n",
            "Cropping Michelle  - 2.png\n",
            "Cropping Michelle  - 3.png\n",
            "Cropping Michelle  - 4.png\n",
            "Cropping Michelle  - 5.png\n",
            "Cropping Michelle  - 6.png\n",
            "Cropping Michelle  - 7.png\n",
            "Cropping Michelle  - 8.png\n",
            "Cropping Michelle  - 9.png\n",
            "Cropping Michelle  - 10.png\n",
            "Cropping Michelle  - 11.png\n",
            "Cropping Michelle  - 12.png\n",
            "Cropping Michelle  - 13.png\n",
            "Cropping Michelle  - 14.png\n",
            "Cropping Michelle  - 15.png\n",
            "Cropping Michelle  - 16.png\n",
            "Cropping Michelle  - 17.png\n",
            "Cropping Michelle  - 18.png\n",
            "Cropping Michelle  - 19.png\n",
            "Cropping Michelle  - 20.png\n",
            "Cropping Michelle  - 21.png\n",
            "Cropping Michelle  - 22.png\n",
            "Cropping Michelle  - 23.png\n",
            "Cropping Michelle  - 24.png\n",
            "Cropping Michelle  - 25.png\n",
            "Total cropped: 48\n"
          ],
          "name": "stdout"
        }
      ]
    },
    {
      "cell_type": "code",
      "metadata": {
        "id": "VQkQhlb5vplh",
        "colab": {
          "base_uri": "https://localhost:8080/",
          "height": 54
        },
        "outputId": "845448bf-0652-4439-edbc-41def2af2311"
      },
      "source": [
        "%cd ../../white_mice_crops/"
      ],
      "execution_count": null,
      "outputs": [
        {
          "output_type": "stream",
          "text": [
            "/content/drive/.shortcut-targets-by-id/175Vkdh2mGaZ7CZsZetvNssl0puand1tS/Hector_MJ_Google_Drive/Pipeline/white_mice_crops\n"
          ],
          "name": "stdout"
        }
      ]
    },
    {
      "cell_type": "code",
      "metadata": {
        "id": "6POqAqgVt_9q",
        "colab": {
          "base_uri": "https://localhost:8080/",
          "height": 34
        },
        "outputId": "bf0ebc28-3514-4668-bcea-a35ccdd70203"
      },
      "source": [
        "%ls -1 | wc -l"
      ],
      "execution_count": null,
      "outputs": [
        {
          "output_type": "stream",
          "text": [
            "144\n"
          ],
          "name": "stdout"
        }
      ]
    },
    {
      "cell_type": "markdown",
      "metadata": {
        "id": "l4jwo4vYfTI6"
      },
      "source": [
        "The output printed at the end of the for loop block should be the same as the number of files found by `%ls`"
      ]
    }
  ]
}